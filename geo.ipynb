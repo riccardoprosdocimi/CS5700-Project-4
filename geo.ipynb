{
 "cells": [
  {
   "cell_type": "code",
   "execution_count": 1,
   "metadata": {},
   "outputs": [],
   "source": [
    "import pandas as pd"
   ]
  },
  {
   "cell_type": "code",
   "execution_count": 2,
   "metadata": {},
   "outputs": [
    {
     "data": {
      "text/html": [
       "<div>\n",
       "<style scoped>\n",
       "    .dataframe tbody tr th:only-of-type {\n",
       "        vertical-align: middle;\n",
       "    }\n",
       "\n",
       "    .dataframe tbody tr th {\n",
       "        vertical-align: top;\n",
       "    }\n",
       "\n",
       "    .dataframe thead th {\n",
       "        text-align: right;\n",
       "    }\n",
       "</style>\n",
       "<table border=\"1\" class=\"dataframe\">\n",
       "  <thead>\n",
       "    <tr style=\"text-align: right;\">\n",
       "      <th></th>\n",
       "      <th>network</th>\n",
       "      <th>geoname_id</th>\n",
       "      <th>registered_country_geoname_id</th>\n",
       "      <th>represented_country_geoname_id</th>\n",
       "      <th>is_anonymous_proxy</th>\n",
       "      <th>is_satellite_provider</th>\n",
       "    </tr>\n",
       "  </thead>\n",
       "  <tbody>\n",
       "    <tr>\n",
       "      <th>0</th>\n",
       "      <td>1.0.0.0/24</td>\n",
       "      <td>2077456.0</td>\n",
       "      <td>2077456.0</td>\n",
       "      <td>NaN</td>\n",
       "      <td>0</td>\n",
       "      <td>0</td>\n",
       "    </tr>\n",
       "    <tr>\n",
       "      <th>1</th>\n",
       "      <td>1.0.1.0/24</td>\n",
       "      <td>1814991.0</td>\n",
       "      <td>1814991.0</td>\n",
       "      <td>NaN</td>\n",
       "      <td>0</td>\n",
       "      <td>0</td>\n",
       "    </tr>\n",
       "    <tr>\n",
       "      <th>2</th>\n",
       "      <td>1.0.2.0/23</td>\n",
       "      <td>1814991.0</td>\n",
       "      <td>1814991.0</td>\n",
       "      <td>NaN</td>\n",
       "      <td>0</td>\n",
       "      <td>0</td>\n",
       "    </tr>\n",
       "    <tr>\n",
       "      <th>3</th>\n",
       "      <td>1.0.4.0/22</td>\n",
       "      <td>2077456.0</td>\n",
       "      <td>2077456.0</td>\n",
       "      <td>NaN</td>\n",
       "      <td>0</td>\n",
       "      <td>0</td>\n",
       "    </tr>\n",
       "    <tr>\n",
       "      <th>4</th>\n",
       "      <td>1.0.8.0/21</td>\n",
       "      <td>1814991.0</td>\n",
       "      <td>1814991.0</td>\n",
       "      <td>NaN</td>\n",
       "      <td>0</td>\n",
       "      <td>0</td>\n",
       "    </tr>\n",
       "  </tbody>\n",
       "</table>\n",
       "</div>"
      ],
      "text/plain": [
       "      network  geoname_id  registered_country_geoname_id  \\\n",
       "0  1.0.0.0/24   2077456.0                      2077456.0   \n",
       "1  1.0.1.0/24   1814991.0                      1814991.0   \n",
       "2  1.0.2.0/23   1814991.0                      1814991.0   \n",
       "3  1.0.4.0/22   2077456.0                      2077456.0   \n",
       "4  1.0.8.0/21   1814991.0                      1814991.0   \n",
       "\n",
       "   represented_country_geoname_id  is_anonymous_proxy  is_satellite_provider  \n",
       "0                             NaN                   0                      0  \n",
       "1                             NaN                   0                      0  \n",
       "2                             NaN                   0                      0  \n",
       "3                             NaN                   0                      0  \n",
       "4                             NaN                   0                      0  "
      ]
     },
     "execution_count": 2,
     "metadata": {},
     "output_type": "execute_result"
    }
   ],
   "source": [
    "ipv4 = pd.read_csv(\"geolite/ipv4.csv\")\n",
    "ipv4.head()"
   ]
  },
  {
   "cell_type": "code",
   "execution_count": 3,
   "metadata": {},
   "outputs": [
    {
     "data": {
      "text/html": [
       "<div>\n",
       "<style scoped>\n",
       "    .dataframe tbody tr th:only-of-type {\n",
       "        vertical-align: middle;\n",
       "    }\n",
       "\n",
       "    .dataframe tbody tr th {\n",
       "        vertical-align: top;\n",
       "    }\n",
       "\n",
       "    .dataframe thead th {\n",
       "        text-align: right;\n",
       "    }\n",
       "</style>\n",
       "<table border=\"1\" class=\"dataframe\">\n",
       "  <thead>\n",
       "    <tr style=\"text-align: right;\">\n",
       "      <th></th>\n",
       "      <th>network</th>\n",
       "      <th>geoname_id</th>\n",
       "    </tr>\n",
       "  </thead>\n",
       "  <tbody>\n",
       "    <tr>\n",
       "      <th>0</th>\n",
       "      <td>1.0.0.0/24</td>\n",
       "      <td>2077456.0</td>\n",
       "    </tr>\n",
       "    <tr>\n",
       "      <th>1</th>\n",
       "      <td>1.0.1.0/24</td>\n",
       "      <td>1814991.0</td>\n",
       "    </tr>\n",
       "    <tr>\n",
       "      <th>2</th>\n",
       "      <td>1.0.2.0/23</td>\n",
       "      <td>1814991.0</td>\n",
       "    </tr>\n",
       "    <tr>\n",
       "      <th>3</th>\n",
       "      <td>1.0.4.0/22</td>\n",
       "      <td>2077456.0</td>\n",
       "    </tr>\n",
       "    <tr>\n",
       "      <th>4</th>\n",
       "      <td>1.0.8.0/21</td>\n",
       "      <td>1814991.0</td>\n",
       "    </tr>\n",
       "  </tbody>\n",
       "</table>\n",
       "</div>"
      ],
      "text/plain": [
       "      network  geoname_id\n",
       "0  1.0.0.0/24   2077456.0\n",
       "1  1.0.1.0/24   1814991.0\n",
       "2  1.0.2.0/23   1814991.0\n",
       "3  1.0.4.0/22   2077456.0\n",
       "4  1.0.8.0/21   1814991.0"
      ]
     },
     "execution_count": 3,
     "metadata": {},
     "output_type": "execute_result"
    }
   ],
   "source": [
    "ipv4.drop(\n",
    "    columns=[\n",
    "        \"registered_country_geoname_id\",\n",
    "        \"represented_country_geoname_id\",\n",
    "        \"is_anonymous_proxy\",\n",
    "        \"is_satellite_provider\",\n",
    "    ],\n",
    "    inplace=True,\n",
    ")\n",
    "ipv4.head()"
   ]
  },
  {
   "cell_type": "code",
   "execution_count": 4,
   "metadata": {},
   "outputs": [
    {
     "data": {
      "text/html": [
       "<div>\n",
       "<style scoped>\n",
       "    .dataframe tbody tr th:only-of-type {\n",
       "        vertical-align: middle;\n",
       "    }\n",
       "\n",
       "    .dataframe tbody tr th {\n",
       "        vertical-align: top;\n",
       "    }\n",
       "\n",
       "    .dataframe thead th {\n",
       "        text-align: right;\n",
       "    }\n",
       "</style>\n",
       "<table border=\"1\" class=\"dataframe\">\n",
       "  <thead>\n",
       "    <tr style=\"text-align: right;\">\n",
       "      <th></th>\n",
       "      <th>network</th>\n",
       "      <th>geoname_id</th>\n",
       "    </tr>\n",
       "  </thead>\n",
       "  <tbody>\n",
       "    <tr>\n",
       "      <th>0</th>\n",
       "      <td>1.0.0.0/24</td>\n",
       "      <td>2077456</td>\n",
       "    </tr>\n",
       "    <tr>\n",
       "      <th>1</th>\n",
       "      <td>1.0.1.0/24</td>\n",
       "      <td>1814991</td>\n",
       "    </tr>\n",
       "    <tr>\n",
       "      <th>2</th>\n",
       "      <td>1.0.2.0/23</td>\n",
       "      <td>1814991</td>\n",
       "    </tr>\n",
       "    <tr>\n",
       "      <th>3</th>\n",
       "      <td>1.0.4.0/22</td>\n",
       "      <td>2077456</td>\n",
       "    </tr>\n",
       "    <tr>\n",
       "      <th>4</th>\n",
       "      <td>1.0.8.0/21</td>\n",
       "      <td>1814991</td>\n",
       "    </tr>\n",
       "  </tbody>\n",
       "</table>\n",
       "</div>"
      ],
      "text/plain": [
       "      network  geoname_id\n",
       "0  1.0.0.0/24     2077456\n",
       "1  1.0.1.0/24     1814991\n",
       "2  1.0.2.0/23     1814991\n",
       "3  1.0.4.0/22     2077456\n",
       "4  1.0.8.0/21     1814991"
      ]
     },
     "execution_count": 4,
     "metadata": {},
     "output_type": "execute_result"
    }
   ],
   "source": [
    "ipv4[\"geoname_id\"] = ipv4[\"geoname_id\"].fillna(0).astype(int)\n",
    "ipv4.head()"
   ]
  },
  {
   "cell_type": "code",
   "execution_count": 5,
   "metadata": {},
   "outputs": [
    {
     "data": {
      "text/html": [
       "<div>\n",
       "<style scoped>\n",
       "    .dataframe tbody tr th:only-of-type {\n",
       "        vertical-align: middle;\n",
       "    }\n",
       "\n",
       "    .dataframe tbody tr th {\n",
       "        vertical-align: top;\n",
       "    }\n",
       "\n",
       "    .dataframe thead th {\n",
       "        text-align: right;\n",
       "    }\n",
       "</style>\n",
       "<table border=\"1\" class=\"dataframe\">\n",
       "  <thead>\n",
       "    <tr style=\"text-align: right;\">\n",
       "      <th></th>\n",
       "      <th>geoname_id</th>\n",
       "      <th>locale_code</th>\n",
       "      <th>continent_code</th>\n",
       "      <th>continent_name</th>\n",
       "      <th>country_iso_code</th>\n",
       "      <th>country_name</th>\n",
       "      <th>is_in_european_union</th>\n",
       "    </tr>\n",
       "  </thead>\n",
       "  <tbody>\n",
       "    <tr>\n",
       "      <th>0</th>\n",
       "      <td>49518</td>\n",
       "      <td>en</td>\n",
       "      <td>AF</td>\n",
       "      <td>Africa</td>\n",
       "      <td>RW</td>\n",
       "      <td>Rwanda</td>\n",
       "      <td>0</td>\n",
       "    </tr>\n",
       "    <tr>\n",
       "      <th>1</th>\n",
       "      <td>51537</td>\n",
       "      <td>en</td>\n",
       "      <td>AF</td>\n",
       "      <td>Africa</td>\n",
       "      <td>SO</td>\n",
       "      <td>Somalia</td>\n",
       "      <td>0</td>\n",
       "    </tr>\n",
       "    <tr>\n",
       "      <th>2</th>\n",
       "      <td>69543</td>\n",
       "      <td>en</td>\n",
       "      <td>AS</td>\n",
       "      <td>Asia</td>\n",
       "      <td>YE</td>\n",
       "      <td>Yemen</td>\n",
       "      <td>0</td>\n",
       "    </tr>\n",
       "    <tr>\n",
       "      <th>3</th>\n",
       "      <td>99237</td>\n",
       "      <td>en</td>\n",
       "      <td>AS</td>\n",
       "      <td>Asia</td>\n",
       "      <td>IQ</td>\n",
       "      <td>Iraq</td>\n",
       "      <td>0</td>\n",
       "    </tr>\n",
       "    <tr>\n",
       "      <th>4</th>\n",
       "      <td>102358</td>\n",
       "      <td>en</td>\n",
       "      <td>AS</td>\n",
       "      <td>Asia</td>\n",
       "      <td>SA</td>\n",
       "      <td>Saudi Arabia</td>\n",
       "      <td>0</td>\n",
       "    </tr>\n",
       "  </tbody>\n",
       "</table>\n",
       "</div>"
      ],
      "text/plain": [
       "   geoname_id locale_code continent_code continent_name country_iso_code  \\\n",
       "0       49518          en             AF         Africa               RW   \n",
       "1       51537          en             AF         Africa               SO   \n",
       "2       69543          en             AS           Asia               YE   \n",
       "3       99237          en             AS           Asia               IQ   \n",
       "4      102358          en             AS           Asia               SA   \n",
       "\n",
       "   country_name  is_in_european_union  \n",
       "0        Rwanda                     0  \n",
       "1       Somalia                     0  \n",
       "2         Yemen                     0  \n",
       "3          Iraq                     0  \n",
       "4  Saudi Arabia                     0  "
      ]
     },
     "execution_count": 5,
     "metadata": {},
     "output_type": "execute_result"
    }
   ],
   "source": [
    "id2c = pd.read_csv(\"geolite/id_to_country.csv\")\n",
    "id2c.head()"
   ]
  },
  {
   "cell_type": "code",
   "execution_count": 6,
   "metadata": {},
   "outputs": [
    {
     "data": {
      "text/html": [
       "<div>\n",
       "<style scoped>\n",
       "    .dataframe tbody tr th:only-of-type {\n",
       "        vertical-align: middle;\n",
       "    }\n",
       "\n",
       "    .dataframe tbody tr th {\n",
       "        vertical-align: top;\n",
       "    }\n",
       "\n",
       "    .dataframe thead th {\n",
       "        text-align: right;\n",
       "    }\n",
       "</style>\n",
       "<table border=\"1\" class=\"dataframe\">\n",
       "  <thead>\n",
       "    <tr style=\"text-align: right;\">\n",
       "      <th></th>\n",
       "      <th>geoname_id</th>\n",
       "      <th>country_iso_code</th>\n",
       "    </tr>\n",
       "  </thead>\n",
       "  <tbody>\n",
       "    <tr>\n",
       "      <th>0</th>\n",
       "      <td>49518</td>\n",
       "      <td>RW</td>\n",
       "    </tr>\n",
       "    <tr>\n",
       "      <th>1</th>\n",
       "      <td>51537</td>\n",
       "      <td>SO</td>\n",
       "    </tr>\n",
       "    <tr>\n",
       "      <th>2</th>\n",
       "      <td>69543</td>\n",
       "      <td>YE</td>\n",
       "    </tr>\n",
       "    <tr>\n",
       "      <th>3</th>\n",
       "      <td>99237</td>\n",
       "      <td>IQ</td>\n",
       "    </tr>\n",
       "    <tr>\n",
       "      <th>4</th>\n",
       "      <td>102358</td>\n",
       "      <td>SA</td>\n",
       "    </tr>\n",
       "  </tbody>\n",
       "</table>\n",
       "</div>"
      ],
      "text/plain": [
       "   geoname_id country_iso_code\n",
       "0       49518               RW\n",
       "1       51537               SO\n",
       "2       69543               YE\n",
       "3       99237               IQ\n",
       "4      102358               SA"
      ]
     },
     "execution_count": 6,
     "metadata": {},
     "output_type": "execute_result"
    }
   ],
   "source": [
    "id2c.drop(columns=[\"locale_code\", \"continent_code\", \"continent_name\", \"country_name\", \"is_in_european_union\"], inplace=True)\n",
    "id2c.head()"
   ]
  },
  {
   "cell_type": "code",
   "execution_count": 36,
   "metadata": {},
   "outputs": [
    {
     "data": {
      "text/html": [
       "<div>\n",
       "<style scoped>\n",
       "    .dataframe tbody tr th:only-of-type {\n",
       "        vertical-align: middle;\n",
       "    }\n",
       "\n",
       "    .dataframe tbody tr th {\n",
       "        vertical-align: top;\n",
       "    }\n",
       "\n",
       "    .dataframe thead th {\n",
       "        text-align: right;\n",
       "    }\n",
       "</style>\n",
       "<table border=\"1\" class=\"dataframe\">\n",
       "  <thead>\n",
       "    <tr style=\"text-align: right;\">\n",
       "      <th></th>\n",
       "      <th>network</th>\n",
       "      <th>geoname_id</th>\n",
       "      <th>country_iso_code</th>\n",
       "    </tr>\n",
       "  </thead>\n",
       "  <tbody>\n",
       "    <tr>\n",
       "      <th>393365</th>\n",
       "      <td>193.253.98.0/24</td>\n",
       "      <td>1024031</td>\n",
       "      <td>YT</td>\n",
       "    </tr>\n",
       "    <tr>\n",
       "      <th>393366</th>\n",
       "      <td>193.253.110.0/23</td>\n",
       "      <td>1024031</td>\n",
       "      <td>YT</td>\n",
       "    </tr>\n",
       "    <tr>\n",
       "      <th>393367</th>\n",
       "      <td>193.253.112.0/24</td>\n",
       "      <td>1024031</td>\n",
       "      <td>YT</td>\n",
       "    </tr>\n",
       "    <tr>\n",
       "      <th>393368</th>\n",
       "      <td>193.253.126.0/23</td>\n",
       "      <td>1024031</td>\n",
       "      <td>YT</td>\n",
       "    </tr>\n",
       "    <tr>\n",
       "      <th>393369</th>\n",
       "      <td>194.3.192.0/20</td>\n",
       "      <td>1024031</td>\n",
       "      <td>YT</td>\n",
       "    </tr>\n",
       "    <tr>\n",
       "      <th>393370</th>\n",
       "      <td>194.50.99.247/32</td>\n",
       "      <td>1024031</td>\n",
       "      <td>YT</td>\n",
       "    </tr>\n",
       "    <tr>\n",
       "      <th>393371</th>\n",
       "      <td>194.50.111.247/32</td>\n",
       "      <td>1024031</td>\n",
       "      <td>YT</td>\n",
       "    </tr>\n",
       "    <tr>\n",
       "      <th>393372</th>\n",
       "      <td>213.55.56.0/22</td>\n",
       "      <td>1024031</td>\n",
       "      <td>YT</td>\n",
       "    </tr>\n",
       "    <tr>\n",
       "      <th>393373</th>\n",
       "      <td>213.55.60.0/23</td>\n",
       "      <td>1024031</td>\n",
       "      <td>YT</td>\n",
       "    </tr>\n",
       "    <tr>\n",
       "      <th>393374</th>\n",
       "      <td>213.222.72.0/21</td>\n",
       "      <td>1024031</td>\n",
       "      <td>YT</td>\n",
       "    </tr>\n",
       "    <tr>\n",
       "      <th>393375</th>\n",
       "      <td>213.222.86.0/24</td>\n",
       "      <td>1024031</td>\n",
       "      <td>YT</td>\n",
       "    </tr>\n",
       "    <tr>\n",
       "      <th>393376</th>\n",
       "      <td>213.222.101.0/24</td>\n",
       "      <td>1024031</td>\n",
       "      <td>YT</td>\n",
       "    </tr>\n",
       "    <tr>\n",
       "      <th>393377</th>\n",
       "      <td>213.222.102.0/23</td>\n",
       "      <td>1024031</td>\n",
       "      <td>YT</td>\n",
       "    </tr>\n",
       "    <tr>\n",
       "      <th>393378</th>\n",
       "      <td>213.222.119.128/25</td>\n",
       "      <td>1024031</td>\n",
       "      <td>YT</td>\n",
       "    </tr>\n",
       "    <tr>\n",
       "      <th>393379</th>\n",
       "      <td>213.222.120.0/22</td>\n",
       "      <td>1024031</td>\n",
       "      <td>YT</td>\n",
       "    </tr>\n",
       "  </tbody>\n",
       "</table>\n",
       "</div>"
      ],
      "text/plain": [
       "                   network  geoname_id country_iso_code\n",
       "393365     193.253.98.0/24     1024031               YT\n",
       "393366    193.253.110.0/23     1024031               YT\n",
       "393367    193.253.112.0/24     1024031               YT\n",
       "393368    193.253.126.0/23     1024031               YT\n",
       "393369      194.3.192.0/20     1024031               YT\n",
       "393370    194.50.99.247/32     1024031               YT\n",
       "393371   194.50.111.247/32     1024031               YT\n",
       "393372      213.55.56.0/22     1024031               YT\n",
       "393373      213.55.60.0/23     1024031               YT\n",
       "393374     213.222.72.0/21     1024031               YT\n",
       "393375     213.222.86.0/24     1024031               YT\n",
       "393376    213.222.101.0/24     1024031               YT\n",
       "393377    213.222.102.0/23     1024031               YT\n",
       "393378  213.222.119.128/25     1024031               YT\n",
       "393379    213.222.120.0/22     1024031               YT"
      ]
     },
     "execution_count": 36,
     "metadata": {},
     "output_type": "execute_result"
    }
   ],
   "source": [
    "merged_df = pd.merge(ipv4, id2c, on=[\"geoname_id\"], how=\"outer\")\n",
    "merged_df.tail(15)"
   ]
  },
  {
   "cell_type": "code",
   "execution_count": 16,
   "metadata": {},
   "outputs": [
    {
     "data": {
      "text/html": [
       "<div>\n",
       "<style scoped>\n",
       "    .dataframe tbody tr th:only-of-type {\n",
       "        vertical-align: middle;\n",
       "    }\n",
       "\n",
       "    .dataframe tbody tr th {\n",
       "        vertical-align: top;\n",
       "    }\n",
       "\n",
       "    .dataframe thead th {\n",
       "        text-align: right;\n",
       "    }\n",
       "</style>\n",
       "<table border=\"1\" class=\"dataframe\">\n",
       "  <thead>\n",
       "    <tr style=\"text-align: right;\">\n",
       "      <th></th>\n",
       "      <th>network</th>\n",
       "      <th>country_iso_code</th>\n",
       "    </tr>\n",
       "  </thead>\n",
       "  <tbody>\n",
       "    <tr>\n",
       "      <th>0</th>\n",
       "      <td>1.0.0.0/24</td>\n",
       "      <td>AU</td>\n",
       "    </tr>\n",
       "    <tr>\n",
       "      <th>1</th>\n",
       "      <td>1.0.4.0/22</td>\n",
       "      <td>AU</td>\n",
       "    </tr>\n",
       "    <tr>\n",
       "      <th>2</th>\n",
       "      <td>1.1.1.0/32</td>\n",
       "      <td>AU</td>\n",
       "    </tr>\n",
       "    <tr>\n",
       "      <th>3</th>\n",
       "      <td>1.1.1.2/31</td>\n",
       "      <td>AU</td>\n",
       "    </tr>\n",
       "    <tr>\n",
       "      <th>4</th>\n",
       "      <td>1.1.1.4/30</td>\n",
       "      <td>AU</td>\n",
       "    </tr>\n",
       "  </tbody>\n",
       "</table>\n",
       "</div>"
      ],
      "text/plain": [
       "      network country_iso_code\n",
       "0  1.0.0.0/24               AU\n",
       "1  1.0.4.0/22               AU\n",
       "2  1.1.1.0/32               AU\n",
       "3  1.1.1.2/31               AU\n",
       "4  1.1.1.4/30               AU"
      ]
     },
     "execution_count": 16,
     "metadata": {},
     "output_type": "execute_result"
    }
   ],
   "source": [
    "merged_df.drop(columns=[\"geoname_id\"], inplace=True)\n",
    "merged_df.head()"
   ]
  },
  {
   "cell_type": "code",
   "execution_count": 18,
   "metadata": {},
   "outputs": [],
   "source": [
    "merged_df.to_csv(\"geolite/final.csv\", index=False)"
   ]
  },
  {
   "cell_type": "code",
   "execution_count": 26,
   "metadata": {},
   "outputs": [],
   "source": [
    "prefixes = list(merged_df[\"network\"])"
   ]
  },
  {
   "cell_type": "code",
   "execution_count": 34,
   "metadata": {},
   "outputs": [
    {
     "data": {
      "text/plain": [
       "12461"
      ]
     },
     "execution_count": 34,
     "metadata": {},
     "output_type": "execute_result"
    }
   ],
   "source": [
    "from netaddr import cidr_merge\n",
    "merged_ips = cidr_merge(prefixes)\n",
    "len(merged_ips)"
   ]
  },
  {
   "cell_type": "code",
   "execution_count": 35,
   "metadata": {},
   "outputs": [],
   "source": [
    "import requests\n",
    "from typing import Tuple\n",
    "\n",
    "GEOAPIFY_API_KEY = \"e3b2b5940f82418689f369419e58168e\"\n",
    "\n",
    "def get_lat_long_for_ip(ip: str) -> Tuple[float, float]:\n",
    "    url = f\"https://api.geoapify.com/v1/ipinfo?ip={ip}&apiKey={GEOAPIFY_API_KEY}\"\n",
    "    response = requests.get(url).json()\n",
    "    location = response[\"location\"]\n",
    "    lat, long = location[\"latitude\"], location[\"longitude\"]\n",
    "    return lat, long"
   ]
  },
  {
   "cell_type": "code",
   "execution_count": 44,
   "metadata": {},
   "outputs": [],
   "source": [
    "table = {}\n",
    "\n",
    "for prefix in merged_ips[:10]:\n",
    "    location = get_lat_long_for_ip(prefix)\n",
    "    table[prefix] = location"
   ]
  },
  {
   "cell_type": "code",
   "execution_count": 45,
   "metadata": {},
   "outputs": [
    {
     "data": {
      "text/plain": [
       "{IPNetwork('1.0.0.0/8'): (-27.4767, 153.017),\n",
       " IPNetwork('2.0.0.0/11'): (48.8566, 2.35222),\n",
       " IPNetwork('2.32.0.0/12'): (40.8518, 14.2681),\n",
       " IPNetwork('2.48.0.0/13'): (25.2048, 55.2708),\n",
       " IPNetwork('2.56.0.0/16'): (39.7447, -75.5484),\n",
       " IPNetwork('2.57.4.0/22'): (41.8521, 3.13048),\n",
       " IPNetwork('2.57.8.0/21'): (51.4025, 21.147100000000002),\n",
       " IPNetwork('2.57.16.0/20'): (25.033, 121.565),\n",
       " IPNetwork('2.57.32.0/19'): (45.4642, 9.18998),\n",
       " IPNetwork('2.57.64.0/18'): (48.1486, 17.1077)}"
      ]
     },
     "execution_count": 45,
     "metadata": {},
     "output_type": "execute_result"
    }
   ],
   "source": [
    "table"
   ]
  },
  {
   "cell_type": "code",
   "execution_count": 46,
   "metadata": {},
   "outputs": [],
   "source": [
    "from netaddr import IPSet\n",
    "\n",
    "ip_set = IPSet(merged_ips)"
   ]
  },
  {
   "cell_type": "code",
   "execution_count": 52,
   "metadata": {},
   "outputs": [
    {
     "data": {
      "text/plain": [
       "True"
      ]
     },
     "execution_count": 52,
     "metadata": {},
     "output_type": "execute_result"
    }
   ],
   "source": [
    "\"155.33.134.52\" in ip_set"
   ]
  },
  {
   "cell_type": "code",
   "execution_count": null,
   "metadata": {},
   "outputs": [],
   "source": []
  }
 ],
 "metadata": {
  "kernelspec": {
   "display_name": "Python 3.10.8 64-bit",
   "language": "python",
   "name": "python3"
  },
  "language_info": {
   "codemirror_mode": {
    "name": "ipython",
    "version": 3
   },
   "file_extension": ".py",
   "mimetype": "text/x-python",
   "name": "python",
   "nbconvert_exporter": "python",
   "pygments_lexer": "ipython3",
   "version": "3.10.8"
  },
  "orig_nbformat": 4,
  "vscode": {
   "interpreter": {
    "hash": "31f2aee4e71d21fbe5cf8b01ff0e069b9275f58929596ceb00d14d90e3e16cd6"
   }
  }
 },
 "nbformat": 4,
 "nbformat_minor": 2
}
